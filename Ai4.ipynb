{
 "cells": [
  {
   "cell_type": "markdown",
   "id": "9cc7b06e-518e-4a8d-884a-cf57e8dd9418",
   "metadata": {},
   "source": [
    "# Mana Forecasting Challenge: Rise of the Analysts"
   ]
  },
  {
   "cell_type": "markdown",
   "id": "4e00340e-e1e7-485c-aef1-0d87d3163282",
   "metadata": {},
   "source": [
    "## Challenge Script:\n",
    "\n",
    "In a world where mana is the lifeblood of cities, powering everything from skyships to protective barriers against dungeon outbreaks, forecasting mana demand is no longer a luxury—it's a necessity. The Mana Regulation Bureau (MRB) has summoned elite data sorcerers, code-warriors, and machine learning hunters to step forth and wield their power against the unpredictability of mana surges.\n",
    "\n",
    "As a lone hunter—much like Sung Jin-Woo—you've been given access to mysterious scrolls: datasets filled with arcane metrics and hidden mana traces. Your mission? Predict future mana_demand from a chaotic system where the only constant is change.\n",
    "Using your modeling skill as your weapon, you'll tame volatility, extract truth from temporal shadows, and reveal what lies beyond the data gate. The fate of mana infrastructure rests on your predictions\n",
    "\n",
    "\n",
    "The dungeon doors are open, hunter.\n",
    "Will you rise… and level up?\n",
    "Your model will be judged using the Mean Squared Error (MSE)\n",
    "\n",
    "### Challenge Hints: \n",
    "Requirement File: ..."
   ]
  },
  {
   "cell_type": "markdown",
   "id": "80fcb15a",
   "metadata": {},
   "source": [
    "# Régression linéaire"
   ]
  },
  {
   "cell_type": "markdown",
   "id": "6942bf12",
   "metadata": {},
   "source": [
    "## I- Packages"
   ]
  },
  {
   "cell_type": "code",
   "execution_count": null,
   "id": "95c8436f",
   "metadata": {},
   "outputs": [],
   "source": [
    "import pandas as pd\n",
    "from sklearn.preprocessing import StandardScaler\n",
    "from sklearn.linear_model import LinearRegression\n",
    "from sklearn.model_selection import train_test_split\n",
    "from sklearn.metrics import mean_squared_error\n"
   ]
  },
  {
   "cell_type": "markdown",
   "id": "571b6513",
   "metadata": {},
   "source": [
    "## II- Comprendre les données"
   ]
  },
  {
   "cell_type": "code",
   "execution_count": null,
   "id": "e6c5a503",
   "metadata": {},
   "outputs": [
    {
     "name": "stdout",
     "output_type": "stream",
     "text": [
      "Données d'entraînement :\n",
      "              datetime    city  mana_demand  weather_mana_flux  \\\n",
      "0  2024-01-01 00:00:00  City_1   806.235313          -1.381215   \n",
      "1  2024-01-01 00:00:00  City_5   708.916660          -0.697669   \n",
      "2  2024-01-01 00:00:00  City_7  1058.017265          -0.580591   \n",
      "3  2024-01-01 00:00:00  City_4   992.977141           1.357038   \n",
      "4  2024-01-01 00:00:00  City_8  1379.461791           0.668743   \n",
      "\n",
      "   number_of_open_gates  raid_alert_level  hunter_teams_dispatched  \\\n",
      "0                   0.0          7.155268                      1.0   \n",
      "1                   0.0          6.819325                      1.0   \n",
      "2                   2.0          4.953610                      1.0   \n",
      "3                   1.0          4.205503                      1.0   \n",
      "4                   3.0               NaN                      0.0   \n",
      "\n",
      "   mana_stabilizers_active  local_festival  mana_import_from_neighbors  ...  \\\n",
      "0                      1.0             0.0                  187.568955  ...   \n",
      "1                      1.0             NaN                  188.502759  ...   \n",
      "2                      NaN             0.0                   75.881136  ...   \n",
      "3                      1.0             0.0                  100.548539  ...   \n",
      "4                      1.0             0.0                   51.968916  ...   \n",
      "\n",
      "   holiday_flag  random_chaos_factor  arcane_pressure  temperature   humidity  \\\n",
      "0           NaN          -119.287268        10.167730          NaN        NaN   \n",
      "1           1.0           -42.377398         4.848269    10.726670  95.348680   \n",
      "2           1.0           -85.302273         4.526998    28.756690  93.066834   \n",
      "3           1.0                  NaN         1.683996    33.367304  52.321673   \n",
      "4           1.0          -130.747438         8.104123    17.406765        NaN   \n",
      "\n",
      "   wind_speed  solar_radiation   rainfall  guild_defense_team_on_duty_0  \\\n",
      "0         NaN       573.163576  30.543773                         False   \n",
      "1   35.390851       566.726485        NaN                         False   \n",
      "2   22.478553       223.343896   3.118533                         False   \n",
      "3   25.275273       740.090815  46.990007                          True   \n",
      "4   26.917906       361.710735  82.136296                         False   \n",
      "\n",
      "   guild_defense_team_on_duty_1  \n",
      "0                          True  \n",
      "1                          True  \n",
      "2                          True  \n",
      "3                         False  \n",
      "4                          True  \n",
      "\n",
      "[5 rows x 22 columns]\n",
      "\n",
      "Données de test :\n",
      "              datetime     city  weather_mana_flux  number_of_open_gates  \\\n",
      "0  2024-03-01 00:00:00   City_9          -0.245796                   3.0   \n",
      "1  2024-03-01 00:00:00   City_3           0.155675                   3.0   \n",
      "2  2024-03-01 00:00:00  City_10                NaN                   1.0   \n",
      "3  2024-03-01 00:00:00   City_1           1.045794                   NaN   \n",
      "4  2024-03-01 00:00:00   City_2          -0.114730                   2.0   \n",
      "\n",
      "   raid_alert_level  hunter_teams_dispatched  mana_stabilizers_active  \\\n",
      "0               NaN                      3.0                      1.0   \n",
      "1          4.781152                      4.0                      1.0   \n",
      "2          2.955095                      1.0                      0.0   \n",
      "3               NaN                      6.0                      0.0   \n",
      "4          4.985759                      3.0                      NaN   \n",
      "\n",
      "   local_festival  mana_import_from_neighbors  mana_export_to_neighbors  ...  \\\n",
      "0             0.0                  180.060723                 93.632899  ...   \n",
      "1             0.0                    9.220669                 38.686434  ...   \n",
      "2             0.0                   65.357249                       NaN  ...   \n",
      "3             1.0                  165.561880                105.795269  ...   \n",
      "4             NaN                  146.801470                       NaN  ...   \n",
      "\n",
      "   holiday_flag  random_chaos_factor  arcane_pressure  temperature   humidity  \\\n",
      "0           0.0                  NaN              NaN     0.668804  48.601113   \n",
      "1           0.0           -14.052742        10.343695    23.553264        NaN   \n",
      "2           0.0                  NaN         8.020424    18.452273        NaN   \n",
      "3           0.0            95.577208         2.206972    15.278664  55.273808   \n",
      "4           0.0           -59.232536         2.777527    28.057533   3.809943   \n",
      "\n",
      "   wind_speed  solar_radiation   rainfall  guild_defense_team_on_duty_0  \\\n",
      "0   13.079365       275.163276  71.860128                          True   \n",
      "1   40.894932              NaN  21.016079                         False   \n",
      "2   25.311667              NaN  40.506249                         False   \n",
      "3    2.693881              NaN  22.320431                         False   \n",
      "4   41.091695              NaN   4.739891                          True   \n",
      "\n",
      "   guild_defense_team_on_duty_1  \n",
      "0                         False  \n",
      "1                          True  \n",
      "2                          True  \n",
      "3                          True  \n",
      "4                         False  \n",
      "\n",
      "[5 rows x 21 columns]\n",
      "\n",
      "Colonnes d'entraînement : ['datetime', 'city', 'mana_demand', 'weather_mana_flux', 'number_of_open_gates', 'raid_alert_level', 'hunter_teams_dispatched', 'mana_stabilizers_active', 'local_festival', 'mana_import_from_neighbors', 'mana_export_to_neighbors', 'mana_core_efficiency', 'holiday_flag', 'random_chaos_factor', 'arcane_pressure', 'temperature', 'humidity', 'wind_speed', 'solar_radiation', 'rainfall', 'guild_defense_team_on_duty_0', 'guild_defense_team_on_duty_1']\n",
      "Colonnes de test : ['datetime', 'city', 'weather_mana_flux', 'number_of_open_gates', 'raid_alert_level', 'hunter_teams_dispatched', 'mana_stabilizers_active', 'local_festival', 'mana_import_from_neighbors', 'mana_export_to_neighbors', 'mana_core_efficiency', 'holiday_flag', 'random_chaos_factor', 'arcane_pressure', 'temperature', 'humidity', 'wind_speed', 'solar_radiation', 'rainfall', 'guild_defense_team_on_duty_0', 'guild_defense_team_on_duty_1']\n"
     ]
    }
   ],
   "source": [
    "# Charger les données\n",
    "train_data = pd.read_csv(\"Data/forcast_train_data.csv\")\n",
    "test_data = pd.read_csv(\"Data/forcast_test_data.csv\")\n",
    "\n",
    "# Afficher les premières lignes et les infos\n",
    "print(\"Données d'entraînement :\")\n",
    "print(train_data.head())\n",
    "\n",
    "print(\"\\nDonnées de test :\")\n",
    "print(test_data.head())\n",
    "\n",
    "# Liste les colonnes pour confirmer la présence de \"mana_demand\" dans train et son absence dans test.\n",
    "print(\"\\nColonnes d'entraînement :\", train_data.columns.tolist())\n",
    "print(\"Colonnes de test :\", test_data.columns.tolist())"
   ]
  },
  {
   "cell_type": "markdown",
   "id": "9b7652ed",
   "metadata": {},
   "source": [
    "## III- Préparer les données"
   ]
  },
  {
   "cell_type": "code",
   "execution_count": null,
   "id": "d11f42fa",
   "metadata": {},
   "outputs": [],
   "source": [
    "\n",
    "# Remplacer les valeurs manquantes par 0 \n",
    "train_data = train_data.fillna(0)\n",
    "test_data = test_data.fillna(0)\n",
    "\n",
    "# Encoder la colonne \"city\" (one-hot encoding)\n",
    "train_data = pd.get_dummies(train_data, columns=[\"city\"])\n",
    "test_data = pd.get_dummies(test_data, columns=[\"city\"])\n",
    "\n",
    "# Aligner les colonnes (assurer que train et test ont les mêmes colonnes)\n",
    "train_data, test_data = train_data.align(test_data, join='left', axis=1, fill_value=0)\n",
    "\n",
    "# Séparer features et cible\n",
    "X_train = train_data.drop(\"mana_demand\", axis=1)\n",
    "y_train = train_data[\"mana_demand\"]\n",
    "X_test = test_data\n",
    "\n",
    "# Supprimer les colonnes non numériques (comme datetime) avant normalisation \n",
    "X_train_numeric = X_train.select_dtypes(include=['number'])\n",
    "X_test_numeric = X_test[X_train_numeric.columns]  # pour garder le même ordre\n",
    "\n",
    "# Normaliser les données\n",
    "scaler = StandardScaler()\n",
    "X_train_scaled = scaler.fit_transform(X_train_numeric)\n",
    "X_test_scaled = scaler.transform(X_test_numeric)\n",
    "\n",
    "# Sauvegarder les données préparées (optionnel)\n",
    "pd.DataFrame(X_train_scaled, columns=X_train_numeric.columns).to_csv(\"Data/X_train_processed.csv\", index=False)\n",
    "pd.DataFrame(X_test_scaled, columns=X_test_numeric.columns).to_csv(\"Data/X_test_processed.csv\", index=False)\n"
   ]
  },
  {
   "cell_type": "markdown",
   "id": "b4318cc7",
   "metadata": {},
   "source": [
    "## IV- Visualisation des données"
   ]
  },
  {
   "cell_type": "code",
   "execution_count": null,
   "id": "8b9eabe9",
   "metadata": {},
   "outputs": [],
   "source": [
    "\n",
    "import matplotlib.pyplot as plt\n",
    "import seaborn as sns\n",
    "\n",
    "# Charger les données (seulement le fichier d'entraînement pour l'instant)\n",
    "train_data = pd.read_csv(\"Data/forcast_train_data.csv\")\n",
    "\n",
    "# Remplacer les valeurs manquantes par 0 (comme dans l'étape 2)\n",
    "train_data = train_data.fillna(0)\n",
    "\n",
    "# Visualisation 1 : Relation entre \"mana_demand\" et \"temperature\"\n",
    "plt.figure(figsize=(10, 6))\n",
    "plt.scatter(train_data[\"temperature\"], train_data[\"mana_demand\"], alpha=0.5)\n",
    "plt.title(\"Relation entre Température et Demande de Mana\")\n",
    "plt.xlabel(\"Température (°C)\")\n",
    "plt.ylabel(\"Demande de Mana\")\n",
    "plt.grid(True)\n",
    "plt.show()\n",
    "\n",
    "# Visualisation 2 : Boîte à moustaches par ville\n",
    "plt.figure(figsize=(12, 6))\n",
    "sns.boxplot(x=\"city\", y=\"mana_demand\", data=train_data)\n",
    "plt.title(\"Demande de Mana par Ville\")\n",
    "plt.xticks(rotation=45)\n",
    "plt.show()\n",
    "\n",
    "# Visualisation 3 : Corrélation entre toutes les variables numériques\n",
    "plt.figure(figsize=(12, 8))\n",
    "numeric_data = train_data.select_dtypes(include=['float64', 'int64'])\n",
    "sns.heatmap(numeric_data.corr(), annot=True, cmap=\"coolwarm\", vmin=-1, vmax=1)\n",
    "plt.title(\"Matrice de Corrélation\")\n",
    "plt.show()"
   ]
  },
  {
   "cell_type": "markdown",
   "id": "54b3b08f",
   "metadata": {},
   "source": [
    "## V - Entraîner le modèle"
   ]
  },
  {
   "cell_type": "code",
   "execution_count": null,
   "id": "ee2b7975",
   "metadata": {},
   "outputs": [
    {
     "data": {
      "text/plain": [
       "['Modele/model_linear_regression.pkl']"
      ]
     },
     "execution_count": 4,
     "metadata": {},
     "output_type": "execute_result"
    }
   ],
   "source": [
    "import joblib\n",
    "\n",
    "# Entraîner le modèle\n",
    "model = LinearRegression()\n",
    "model.fit(X_train_scaled, y_train)\n",
    "\n",
    "# Sauvegarder le modèle\n",
    "joblib.dump(model, \"Modele/model_linear_regression.pkl\")\n"
   ]
  },
  {
   "cell_type": "markdown",
   "id": "fd43a191",
   "metadata": {},
   "source": [
    "## VI- Faire des prédictions"
   ]
  },
  {
   "cell_type": "code",
   "execution_count": null,
   "id": "d14df8ab",
   "metadata": {},
   "outputs": [
    {
     "name": "stdout",
     "output_type": "stream",
     "text": [
      "Prédictions sauvegardées dans predictions.csv\n"
     ]
    },
    {
     "name": "stderr",
     "output_type": "stream",
     "text": [
      "c:\\Users\\DELL\\anaconda3\\Lib\\site-packages\\sklearn\\base.py:486: UserWarning: X has feature names, but LinearRegression was fitted without feature names\n",
      "  warnings.warn(\n"
     ]
    }
   ],
   "source": [
    "\n",
    "import joblib\n",
    "\n",
    "# Charger le modèle\n",
    "model = joblib.load(\"Modele/model_linear_regression.pkl\")\n",
    "\n",
    "# Charger les données test déjà normalisées\n",
    "X_test_scaled = pd.read_csv(\"Data/X_test_processed.csv\")\n",
    "\n",
    "# Prédire\n",
    "predictions = model.predict(X_test_scaled)\n",
    "\n",
    "# Charger les données test originales pour ajouter la prédiction\n",
    "test_data = pd.read_csv(\"Data/forcast_test_data.csv\")\n",
    "test_data[\"mana_demand\"] = predictions\n",
    "\n",
    "# Sauvegarder les prédictions\n",
    "test_data.to_csv(\"predictions.csv\", index=False)\n",
    "\n",
    "print(\"Prédictions sauvegardées dans predictions.csv\")\n"
   ]
  },
  {
   "cell_type": "markdown",
   "id": "235a693e",
   "metadata": {},
   "source": [
    "## VII- Évaluer le modèle"
   ]
  },
  {
   "cell_type": "code",
   "execution_count": null,
   "id": "756b22c4",
   "metadata": {},
   "outputs": [
    {
     "name": "stdout",
     "output_type": "stream",
     "text": [
      " Mean Squared Error : 77095.33889163012\n"
     ]
    }
   ],
   "source": [
    "\n",
    "# Séparer en X et y\n",
    "X = train_data.drop(\"mana_demand\", axis=1)\n",
    "y = train_data[\"mana_demand\"]\n",
    "\n",
    "# Split 80%/20%\n",
    "X_train, X_test, y_train, y_test = train_test_split(X, y, test_size=0.2, random_state=42)\n",
    "\n",
    "# Garder uniquement les colonnes numériques\n",
    "X_train = X_train.select_dtypes(include=[\"number\"])\n",
    "X_test = X_test[X_train.columns]  # même colonnes et ordre\n",
    "\n",
    "# Normaliser\n",
    "scaler = StandardScaler()\n",
    "X_train_scaled = scaler.fit_transform(X_train)\n",
    "X_test_scaled = scaler.transform(X_test)\n",
    "\n",
    "# Entraîner le modèle\n",
    "model = LinearRegression()\n",
    "model.fit(X_train_scaled, y_train)\n",
    "\n",
    "# Prédire sur le X_test issu du split\n",
    "predictions = model.predict(X_test_scaled)\n",
    "\n",
    "# Calculer le MSE\n",
    "mse = mean_squared_error(y_test, predictions)\n",
    "print(\" Mean Squared Error :\", mse)\n"
   ]
  },
  {
   "cell_type": "markdown",
   "id": "4f1086ce",
   "metadata": {},
   "source": [
    "## \tVIII-"
   ]
  }
 ],
 "metadata": {
  "kernelspec": {
   "display_name": "base",
   "language": "python",
   "name": "python3"
  },
  "language_info": {
   "codemirror_mode": {
    "name": "ipython",
    "version": 3
   },
   "file_extension": ".py",
   "mimetype": "text/x-python",
   "name": "python",
   "nbconvert_exporter": "python",
   "pygments_lexer": "ipython3",
   "version": "3.12.4"
  }
 },
 "nbformat": 4,
 "nbformat_minor": 5
}
